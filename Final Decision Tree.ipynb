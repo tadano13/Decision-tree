{
 "cells": [
  {
   "cell_type": "markdown",
   "metadata": {
    "id": "k88OSuP7WL0P"
   },
   "source": [
    "* Problem statement:\n",
    "* Create a Model that will help me predict relative humidity at 3 PM"
   ]
  },
  {
   "cell_type": "code",
   "execution_count": 1,
   "metadata": {
    "executionInfo": {
     "elapsed": 3670,
     "status": "ok",
     "timestamp": 1721037104427,
     "user": {
      "displayName": "AVINASH PAWAR",
      "userId": "04075460652633853489"
     },
     "user_tz": -330
    },
    "id": "Bsw3zJPMSyPN"
   },
   "outputs": [],
   "source": [
    "import pandas as pd\n",
    "import numpy as np\n",
    "from sklearn.preprocessing import StandardScaler                    # To scaled data with mean 0 and variance 1\n",
    "from sklearn.model_selection import train_test_split                # To split the data in training and testing part\n",
    "from sklearn.tree import DecisionTreeRegressor                      # To implement decision tree regression\n",
    "from sklearn.tree import DecisionTreeClassifier                     # To implement decision tree classifier\n"
   ]
  },
  {
   "cell_type": "code",
   "execution_count": 2,
   "metadata": {
    "colab": {
     "base_uri": "https://localhost:8080/"
    },
    "executionInfo": {
     "elapsed": 49711,
     "status": "ok",
     "timestamp": 1721037154136,
     "user": {
      "displayName": "AVINASH PAWAR",
      "userId": "04075460652633853489"
     },
     "user_tz": -330
    },
    "id": "H3NOR59CUQgt",
    "outputId": "98556edf-f615-487c-c242-8af25a2666ee"
   },
   "outputs": [
    {
     "name": "stdout",
     "output_type": "stream",
     "text": [
      "Drive already mounted at /content/drive; to attempt to forcibly remount, call drive.mount(\"/content/drive\", force_remount=True).\n"
     ]
    }
   ],
   "source": [
    "from google.colab import drive\n",
    "drive.mount('/content/drive')"
   ]
  },
  {
   "cell_type": "code",
   "execution_count": 3,
   "metadata": {
    "executionInfo": {
     "elapsed": 3,
     "status": "ok",
     "timestamp": 1721037154136,
     "user": {
      "displayName": "AVINASH PAWAR",
      "userId": "04075460652633853489"
     },
     "user_tz": -330
    },
    "id": "lhAJfrxzU6h6"
   },
   "outputs": [],
   "source": [
    "data=\"/content/drive/MyDrive/work on it /Decision Tree/daily_weather.csv\""
   ]
  },
  {
   "cell_type": "code",
   "execution_count": 4,
   "metadata": {
    "executionInfo": {
     "elapsed": 1500,
     "status": "ok",
     "timestamp": 1721037155634,
     "user": {
      "displayName": "AVINASH PAWAR",
      "userId": "04075460652633853489"
     },
     "user_tz": -330
    },
    "id": "_8R4FnVTVNGE"
   },
   "outputs": [],
   "source": [
    "data=pd.read_csv(data)"
   ]
  },
  {
   "cell_type": "code",
   "execution_count": 5,
   "metadata": {
    "colab": {
     "base_uri": "https://localhost:8080/"
    },
    "executionInfo": {
     "elapsed": 16,
     "status": "ok",
     "timestamp": 1721037155634,
     "user": {
      "displayName": "AVINASH PAWAR",
      "userId": "04075460652633853489"
     },
     "user_tz": -330
    },
    "id": "RJe0zfadVqtj",
    "outputId": "18c16516-3d5e-413c-8ac2-81057b08d54f"
   },
   "outputs": [
    {
     "name": "stdout",
     "output_type": "stream",
     "text": [
      "Shape of the dataset: (1095, 11)\n"
     ]
    }
   ],
   "source": [
    "# Get the dimesions of data\n",
    "print('Shape of the dataset:', data.shape)"
   ]
  },
  {
   "cell_type": "code",
   "execution_count": 6,
   "metadata": {
    "colab": {
     "base_uri": "https://localhost:8080/",
     "height": 206
    },
    "executionInfo": {
     "elapsed": 15,
     "status": "ok",
     "timestamp": 1721037155634,
     "user": {
      "displayName": "AVINASH PAWAR",
      "userId": "04075460652633853489"
     },
     "user_tz": -330
    },
    "id": "DGA_yXfQVQGJ",
    "outputId": "e82d0ce3-0f24-43ee-8b6f-078f82fb811a"
   },
   "outputs": [
    {
     "data": {
      "application/vnd.google.colaboratory.intrinsic+json": {
       "summary": "{\n  \"name\": \"data\",\n  \"rows\": 1095,\n  \"fields\": [\n    {\n      \"column\": \"number\",\n      \"properties\": {\n        \"dtype\": \"number\",\n        \"std\": 316,\n        \"min\": 0,\n        \"max\": 1094,\n        \"num_unique_values\": 1095,\n        \"samples\": [\n          533,\n          139,\n          88\n        ],\n        \"semantic_type\": \"\",\n        \"description\": \"\"\n      }\n    },\n    {\n      \"column\": \"air_pressure_9am\",\n      \"properties\": {\n        \"dtype\": \"number\",\n        \"std\": 3.184161180386822,\n        \"min\": 907.9900000000024,\n        \"max\": 929.3200000000012,\n        \"num_unique_values\": 1070,\n        \"samples\": [\n          915.4700000000043,\n          916.700000000012,\n          917.7625807321232\n        ],\n        \"semantic_type\": \"\",\n        \"description\": \"\"\n      }\n    },\n    {\n      \"column\": \"air_temp_9am\",\n      \"properties\": {\n        \"dtype\": \"number\",\n        \"std\": 11.17551400317588,\n        \"min\": 36.752000000000685,\n        \"max\": 98.90599999999992,\n        \"num_unique_values\": 1089,\n        \"samples\": [\n          61.05388861488341,\n          66.99200000000369,\n          67.00316845804598\n        ],\n        \"semantic_type\": \"\",\n        \"description\": \"\"\n      }\n    },\n    {\n      \"column\": \"avg_wind_direction_9am\",\n      \"properties\": {\n        \"dtype\": \"number\",\n        \"std\": 69.13785928889186,\n        \"min\": 15.500000000000046,\n        \"max\": 343.4,\n        \"num_unique_values\": 1004,\n        \"samples\": [\n          92.70000000000005,\n          156.5,\n          117.27339002966498\n        ],\n        \"semantic_type\": \"\",\n        \"description\": \"\"\n      }\n    },\n    {\n      \"column\": \"avg_wind_speed_9am\",\n      \"properties\": {\n        \"dtype\": \"number\",\n        \"std\": 4.552813465531717,\n        \"min\": 0.69345139999974,\n        \"max\": 23.554978199999763,\n        \"num_unique_values\": 1087,\n        \"samples\": [\n          4.171357792639728,\n          5.212070199999689,\n          4.026491999999371\n        ],\n        \"semantic_type\": \"\",\n        \"description\": \"\"\n      }\n    },\n    {\n      \"column\": \"max_wind_direction_9am\",\n      \"properties\": {\n        \"dtype\": \"number\",\n        \"std\": 67.23801294602954,\n        \"min\": 28.89999999999991,\n        \"max\": 312.19999999999993,\n        \"num_unique_values\": 992,\n        \"samples\": [\n          77.9999999999999,\n          47.6999999999999,\n          46.79999999999991\n        ],\n        \"semantic_type\": \"\",\n        \"description\": \"\"\n      }\n    },\n    {\n      \"column\": \"max_wind_speed_9am\",\n      \"properties\": {\n        \"dtype\": \"number\",\n        \"std\": 5.598209170780961,\n        \"min\": 1.185578200000048,\n        \"max\": 29.84077959999996,\n        \"num_unique_values\": 1088,\n        \"samples\": [\n          13.952915290884064,\n          6.017368599999999,\n          10.938636599999754\n        ],\n        \"semantic_type\": \"\",\n        \"description\": \"\"\n      }\n    },\n    {\n      \"column\": \"rain_accumulation_9am\",\n      \"properties\": {\n        \"dtype\": \"number\",\n        \"std\": 1.5939521253574893,\n        \"min\": 0.0,\n        \"max\": 24.01999999999907,\n        \"num_unique_values\": 98,\n        \"samples\": [\n          0.1800000000000636,\n          0.0065346042931192,\n          0.0100000000002182\n        ],\n        \"semantic_type\": \"\",\n        \"description\": \"\"\n      }\n    },\n    {\n      \"column\": \"rain_duration_9am\",\n      \"properties\": {\n        \"dtype\": \"number\",\n        \"std\": 1598.0787786601477,\n        \"min\": 0.0,\n        \"max\": 17704.0,\n        \"num_unique_values\": 142,\n        \"samples\": [\n          15800.0,\n          460.0,\n          2230.0\n        ],\n        \"semantic_type\": \"\",\n        \"description\": \"\"\n      }\n    },\n    {\n      \"column\": \"relative_humidity_9am\",\n      \"properties\": {\n        \"dtype\": \"number\",\n        \"std\": 25.472066802250048,\n        \"min\": 6.090000000001012,\n        \"max\": 92.6200000000002,\n        \"num_unique_values\": 1094,\n        \"samples\": [\n          16.790000000000383,\n          12.284973802021767,\n          8.498335363231277\n        ],\n        \"semantic_type\": \"\",\n        \"description\": \"\"\n      }\n    },\n    {\n      \"column\": \"relative_humidity_3pm\",\n      \"properties\": {\n        \"dtype\": \"number\",\n        \"std\": 22.524079453587266,\n        \"min\": 5.3000000000006855,\n        \"max\": 92.2500000000003,\n        \"num_unique_values\": 1094,\n        \"samples\": [\n          27.880000000000383,\n          15.887080435516529,\n          12.698545982062727\n        ],\n        \"semantic_type\": \"\",\n        \"description\": \"\"\n      }\n    }\n  ]\n}",
       "type": "dataframe",
       "variable_name": "data"
      },
      "text/html": [
       "\n",
       "  <div id=\"df-423539af-5bd5-41d0-9bc0-da042f36a144\" class=\"colab-df-container\">\n",
       "    <div>\n",
       "<style scoped>\n",
       "    .dataframe tbody tr th:only-of-type {\n",
       "        vertical-align: middle;\n",
       "    }\n",
       "\n",
       "    .dataframe tbody tr th {\n",
       "        vertical-align: top;\n",
       "    }\n",
       "\n",
       "    .dataframe thead th {\n",
       "        text-align: right;\n",
       "    }\n",
       "</style>\n",
       "<table border=\"1\" class=\"dataframe\">\n",
       "  <thead>\n",
       "    <tr style=\"text-align: right;\">\n",
       "      <th></th>\n",
       "      <th>number</th>\n",
       "      <th>air_pressure_9am</th>\n",
       "      <th>air_temp_9am</th>\n",
       "      <th>avg_wind_direction_9am</th>\n",
       "      <th>avg_wind_speed_9am</th>\n",
       "      <th>max_wind_direction_9am</th>\n",
       "      <th>max_wind_speed_9am</th>\n",
       "      <th>rain_accumulation_9am</th>\n",
       "      <th>rain_duration_9am</th>\n",
       "      <th>relative_humidity_9am</th>\n",
       "      <th>relative_humidity_3pm</th>\n",
       "    </tr>\n",
       "  </thead>\n",
       "  <tbody>\n",
       "    <tr>\n",
       "      <th>0</th>\n",
       "      <td>0</td>\n",
       "      <td>918.060000</td>\n",
       "      <td>74.822000</td>\n",
       "      <td>271.100000</td>\n",
       "      <td>2.080354</td>\n",
       "      <td>295.400000</td>\n",
       "      <td>2.863283</td>\n",
       "      <td>0.0</td>\n",
       "      <td>0.0</td>\n",
       "      <td>42.420000</td>\n",
       "      <td>36.160000</td>\n",
       "    </tr>\n",
       "    <tr>\n",
       "      <th>1</th>\n",
       "      <td>1</td>\n",
       "      <td>917.347688</td>\n",
       "      <td>71.403843</td>\n",
       "      <td>101.935179</td>\n",
       "      <td>2.443009</td>\n",
       "      <td>140.471548</td>\n",
       "      <td>3.533324</td>\n",
       "      <td>0.0</td>\n",
       "      <td>0.0</td>\n",
       "      <td>24.328697</td>\n",
       "      <td>19.426597</td>\n",
       "    </tr>\n",
       "    <tr>\n",
       "      <th>2</th>\n",
       "      <td>2</td>\n",
       "      <td>923.040000</td>\n",
       "      <td>60.638000</td>\n",
       "      <td>51.000000</td>\n",
       "      <td>17.067852</td>\n",
       "      <td>63.700000</td>\n",
       "      <td>22.100967</td>\n",
       "      <td>0.0</td>\n",
       "      <td>20.0</td>\n",
       "      <td>8.900000</td>\n",
       "      <td>14.460000</td>\n",
       "    </tr>\n",
       "    <tr>\n",
       "      <th>3</th>\n",
       "      <td>3</td>\n",
       "      <td>920.502751</td>\n",
       "      <td>70.138895</td>\n",
       "      <td>198.832133</td>\n",
       "      <td>4.337363</td>\n",
       "      <td>211.203341</td>\n",
       "      <td>5.190045</td>\n",
       "      <td>0.0</td>\n",
       "      <td>0.0</td>\n",
       "      <td>12.189102</td>\n",
       "      <td>12.742547</td>\n",
       "    </tr>\n",
       "    <tr>\n",
       "      <th>4</th>\n",
       "      <td>4</td>\n",
       "      <td>921.160000</td>\n",
       "      <td>44.294000</td>\n",
       "      <td>277.800000</td>\n",
       "      <td>1.856660</td>\n",
       "      <td>136.500000</td>\n",
       "      <td>2.863283</td>\n",
       "      <td>8.9</td>\n",
       "      <td>14730.0</td>\n",
       "      <td>92.410000</td>\n",
       "      <td>76.740000</td>\n",
       "    </tr>\n",
       "  </tbody>\n",
       "</table>\n",
       "</div>\n",
       "    <div class=\"colab-df-buttons\">\n",
       "\n",
       "  <div class=\"colab-df-container\">\n",
       "    <button class=\"colab-df-convert\" onclick=\"convertToInteractive('df-423539af-5bd5-41d0-9bc0-da042f36a144')\"\n",
       "            title=\"Convert this dataframe to an interactive table.\"\n",
       "            style=\"display:none;\">\n",
       "\n",
       "  <svg xmlns=\"http://www.w3.org/2000/svg\" height=\"24px\" viewBox=\"0 -960 960 960\">\n",
       "    <path d=\"M120-120v-720h720v720H120Zm60-500h600v-160H180v160Zm220 220h160v-160H400v160Zm0 220h160v-160H400v160ZM180-400h160v-160H180v160Zm440 0h160v-160H620v160ZM180-180h160v-160H180v160Zm440 0h160v-160H620v160Z\"/>\n",
       "  </svg>\n",
       "    </button>\n",
       "\n",
       "  <style>\n",
       "    .colab-df-container {\n",
       "      display:flex;\n",
       "      gap: 12px;\n",
       "    }\n",
       "\n",
       "    .colab-df-convert {\n",
       "      background-color: #E8F0FE;\n",
       "      border: none;\n",
       "      border-radius: 50%;\n",
       "      cursor: pointer;\n",
       "      display: none;\n",
       "      fill: #1967D2;\n",
       "      height: 32px;\n",
       "      padding: 0 0 0 0;\n",
       "      width: 32px;\n",
       "    }\n",
       "\n",
       "    .colab-df-convert:hover {\n",
       "      background-color: #E2EBFA;\n",
       "      box-shadow: 0px 1px 2px rgba(60, 64, 67, 0.3), 0px 1px 3px 1px rgba(60, 64, 67, 0.15);\n",
       "      fill: #174EA6;\n",
       "    }\n",
       "\n",
       "    .colab-df-buttons div {\n",
       "      margin-bottom: 4px;\n",
       "    }\n",
       "\n",
       "    [theme=dark] .colab-df-convert {\n",
       "      background-color: #3B4455;\n",
       "      fill: #D2E3FC;\n",
       "    }\n",
       "\n",
       "    [theme=dark] .colab-df-convert:hover {\n",
       "      background-color: #434B5C;\n",
       "      box-shadow: 0px 1px 3px 1px rgba(0, 0, 0, 0.15);\n",
       "      filter: drop-shadow(0px 1px 2px rgba(0, 0, 0, 0.3));\n",
       "      fill: #FFFFFF;\n",
       "    }\n",
       "  </style>\n",
       "\n",
       "    <script>\n",
       "      const buttonEl =\n",
       "        document.querySelector('#df-423539af-5bd5-41d0-9bc0-da042f36a144 button.colab-df-convert');\n",
       "      buttonEl.style.display =\n",
       "        google.colab.kernel.accessAllowed ? 'block' : 'none';\n",
       "\n",
       "      async function convertToInteractive(key) {\n",
       "        const element = document.querySelector('#df-423539af-5bd5-41d0-9bc0-da042f36a144');\n",
       "        const dataTable =\n",
       "          await google.colab.kernel.invokeFunction('convertToInteractive',\n",
       "                                                    [key], {});\n",
       "        if (!dataTable) return;\n",
       "\n",
       "        const docLinkHtml = 'Like what you see? Visit the ' +\n",
       "          '<a target=\"_blank\" href=https://colab.research.google.com/notebooks/data_table.ipynb>data table notebook</a>'\n",
       "          + ' to learn more about interactive tables.';\n",
       "        element.innerHTML = '';\n",
       "        dataTable['output_type'] = 'display_data';\n",
       "        await google.colab.output.renderOutput(dataTable, element);\n",
       "        const docLink = document.createElement('div');\n",
       "        docLink.innerHTML = docLinkHtml;\n",
       "        element.appendChild(docLink);\n",
       "      }\n",
       "    </script>\n",
       "  </div>\n",
       "\n",
       "\n",
       "<div id=\"df-0bd88d2a-fbc5-4766-8acb-9c89692a65b4\">\n",
       "  <button class=\"colab-df-quickchart\" onclick=\"quickchart('df-0bd88d2a-fbc5-4766-8acb-9c89692a65b4')\"\n",
       "            title=\"Suggest charts\"\n",
       "            style=\"display:none;\">\n",
       "\n",
       "<svg xmlns=\"http://www.w3.org/2000/svg\" height=\"24px\"viewBox=\"0 0 24 24\"\n",
       "     width=\"24px\">\n",
       "    <g>\n",
       "        <path d=\"M19 3H5c-1.1 0-2 .9-2 2v14c0 1.1.9 2 2 2h14c1.1 0 2-.9 2-2V5c0-1.1-.9-2-2-2zM9 17H7v-7h2v7zm4 0h-2V7h2v10zm4 0h-2v-4h2v4z\"/>\n",
       "    </g>\n",
       "</svg>\n",
       "  </button>\n",
       "\n",
       "<style>\n",
       "  .colab-df-quickchart {\n",
       "      --bg-color: #E8F0FE;\n",
       "      --fill-color: #1967D2;\n",
       "      --hover-bg-color: #E2EBFA;\n",
       "      --hover-fill-color: #174EA6;\n",
       "      --disabled-fill-color: #AAA;\n",
       "      --disabled-bg-color: #DDD;\n",
       "  }\n",
       "\n",
       "  [theme=dark] .colab-df-quickchart {\n",
       "      --bg-color: #3B4455;\n",
       "      --fill-color: #D2E3FC;\n",
       "      --hover-bg-color: #434B5C;\n",
       "      --hover-fill-color: #FFFFFF;\n",
       "      --disabled-bg-color: #3B4455;\n",
       "      --disabled-fill-color: #666;\n",
       "  }\n",
       "\n",
       "  .colab-df-quickchart {\n",
       "    background-color: var(--bg-color);\n",
       "    border: none;\n",
       "    border-radius: 50%;\n",
       "    cursor: pointer;\n",
       "    display: none;\n",
       "    fill: var(--fill-color);\n",
       "    height: 32px;\n",
       "    padding: 0;\n",
       "    width: 32px;\n",
       "  }\n",
       "\n",
       "  .colab-df-quickchart:hover {\n",
       "    background-color: var(--hover-bg-color);\n",
       "    box-shadow: 0 1px 2px rgba(60, 64, 67, 0.3), 0 1px 3px 1px rgba(60, 64, 67, 0.15);\n",
       "    fill: var(--button-hover-fill-color);\n",
       "  }\n",
       "\n",
       "  .colab-df-quickchart-complete:disabled,\n",
       "  .colab-df-quickchart-complete:disabled:hover {\n",
       "    background-color: var(--disabled-bg-color);\n",
       "    fill: var(--disabled-fill-color);\n",
       "    box-shadow: none;\n",
       "  }\n",
       "\n",
       "  .colab-df-spinner {\n",
       "    border: 2px solid var(--fill-color);\n",
       "    border-color: transparent;\n",
       "    border-bottom-color: var(--fill-color);\n",
       "    animation:\n",
       "      spin 1s steps(1) infinite;\n",
       "  }\n",
       "\n",
       "  @keyframes spin {\n",
       "    0% {\n",
       "      border-color: transparent;\n",
       "      border-bottom-color: var(--fill-color);\n",
       "      border-left-color: var(--fill-color);\n",
       "    }\n",
       "    20% {\n",
       "      border-color: transparent;\n",
       "      border-left-color: var(--fill-color);\n",
       "      border-top-color: var(--fill-color);\n",
       "    }\n",
       "    30% {\n",
       "      border-color: transparent;\n",
       "      border-left-color: var(--fill-color);\n",
       "      border-top-color: var(--fill-color);\n",
       "      border-right-color: var(--fill-color);\n",
       "    }\n",
       "    40% {\n",
       "      border-color: transparent;\n",
       "      border-right-color: var(--fill-color);\n",
       "      border-top-color: var(--fill-color);\n",
       "    }\n",
       "    60% {\n",
       "      border-color: transparent;\n",
       "      border-right-color: var(--fill-color);\n",
       "    }\n",
       "    80% {\n",
       "      border-color: transparent;\n",
       "      border-right-color: var(--fill-color);\n",
       "      border-bottom-color: var(--fill-color);\n",
       "    }\n",
       "    90% {\n",
       "      border-color: transparent;\n",
       "      border-bottom-color: var(--fill-color);\n",
       "    }\n",
       "  }\n",
       "</style>\n",
       "\n",
       "  <script>\n",
       "    async function quickchart(key) {\n",
       "      const quickchartButtonEl =\n",
       "        document.querySelector('#' + key + ' button');\n",
       "      quickchartButtonEl.disabled = true;  // To prevent multiple clicks.\n",
       "      quickchartButtonEl.classList.add('colab-df-spinner');\n",
       "      try {\n",
       "        const charts = await google.colab.kernel.invokeFunction(\n",
       "            'suggestCharts', [key], {});\n",
       "      } catch (error) {\n",
       "        console.error('Error during call to suggestCharts:', error);\n",
       "      }\n",
       "      quickchartButtonEl.classList.remove('colab-df-spinner');\n",
       "      quickchartButtonEl.classList.add('colab-df-quickchart-complete');\n",
       "    }\n",
       "    (() => {\n",
       "      let quickchartButtonEl =\n",
       "        document.querySelector('#df-0bd88d2a-fbc5-4766-8acb-9c89692a65b4 button');\n",
       "      quickchartButtonEl.style.display =\n",
       "        google.colab.kernel.accessAllowed ? 'block' : 'none';\n",
       "    })();\n",
       "  </script>\n",
       "</div>\n",
       "\n",
       "    </div>\n",
       "  </div>\n"
      ],
      "text/plain": [
       "   number  air_pressure_9am  air_temp_9am  avg_wind_direction_9am  \\\n",
       "0       0        918.060000     74.822000              271.100000   \n",
       "1       1        917.347688     71.403843              101.935179   \n",
       "2       2        923.040000     60.638000               51.000000   \n",
       "3       3        920.502751     70.138895              198.832133   \n",
       "4       4        921.160000     44.294000              277.800000   \n",
       "\n",
       "   avg_wind_speed_9am  max_wind_direction_9am  max_wind_speed_9am  \\\n",
       "0            2.080354              295.400000            2.863283   \n",
       "1            2.443009              140.471548            3.533324   \n",
       "2           17.067852               63.700000           22.100967   \n",
       "3            4.337363              211.203341            5.190045   \n",
       "4            1.856660              136.500000            2.863283   \n",
       "\n",
       "   rain_accumulation_9am  rain_duration_9am  relative_humidity_9am  \\\n",
       "0                    0.0                0.0              42.420000   \n",
       "1                    0.0                0.0              24.328697   \n",
       "2                    0.0               20.0               8.900000   \n",
       "3                    0.0                0.0              12.189102   \n",
       "4                    8.9            14730.0              92.410000   \n",
       "\n",
       "   relative_humidity_3pm  \n",
       "0              36.160000  \n",
       "1              19.426597  \n",
       "2              14.460000  \n",
       "3              12.742547  \n",
       "4              76.740000  "
      ]
     },
     "execution_count": 6,
     "metadata": {},
     "output_type": "execute_result"
    }
   ],
   "source": [
    "# Output first 5 data rows\n",
    "data.head()"
   ]
  },
  {
   "cell_type": "code",
   "execution_count": 7,
   "metadata": {
    "colab": {
     "base_uri": "https://localhost:8080/",
     "height": 206
    },
    "executionInfo": {
     "elapsed": 14,
     "status": "ok",
     "timestamp": 1721037155634,
     "user": {
      "displayName": "AVINASH PAWAR",
      "userId": "04075460652633853489"
     },
     "user_tz": -330
    },
    "id": "cIBNWvVCVcc8",
    "outputId": "224a5079-da6f-4cc3-c2eb-7810d52343fe"
   },
   "outputs": [
    {
     "data": {
      "application/vnd.google.colaboratory.intrinsic+json": {
       "summary": "{\n  \"name\": \"data\",\n  \"rows\": 5,\n  \"fields\": [\n    {\n      \"column\": \"number\",\n      \"properties\": {\n        \"dtype\": \"number\",\n        \"std\": 1,\n        \"min\": 1090,\n        \"max\": 1094,\n        \"num_unique_values\": 5,\n        \"samples\": [\n          1091,\n          1094,\n          1092\n        ],\n        \"semantic_type\": \"\",\n        \"description\": \"\"\n      }\n    },\n    {\n      \"column\": \"air_pressure_9am\",\n      \"properties\": {\n        \"dtype\": \"number\",\n        \"std\": 3.329560030994942,\n        \"min\": 912.6000000000056,\n        \"max\": 921.5300000000044,\n        \"num_unique_values\": 5,\n        \"samples\": [\n          918.7100000000088,\n          921.5300000000044,\n          916.6000000000053\n        ],\n        \"semantic_type\": \"\",\n        \"description\": \"\"\n      }\n    },\n    {\n      \"column\": \"air_temp_9am\",\n      \"properties\": {\n        \"dtype\": \"number\",\n        \"std\": 10.937015369835857,\n        \"min\": 49.56799999999932,\n        \"max\": 77.7020000000024,\n        \"num_unique_values\": 5,\n        \"samples\": [\n          49.56799999999932,\n          77.7020000000024,\n          71.09600000000553\n        ],\n        \"semantic_type\": \"\",\n        \"description\": \"\"\n      }\n    },\n    {\n      \"column\": \"avg_wind_direction_9am\",\n      \"properties\": {\n        \"dtype\": \"number\",\n        \"std\": 52.35687156429422,\n        \"min\": 97.10000000000004,\n        \"max\": 241.60000000000005,\n        \"num_unique_values\": 5,\n        \"samples\": [\n          241.60000000000005,\n          97.10000000000004,\n          189.3\n        ],\n        \"semantic_type\": \"\",\n        \"description\": \"\"\n      }\n    },\n    {\n      \"column\": \"avg_wind_speed_9am\",\n      \"properties\": {\n        \"dtype\": \"number\",\n        \"std\": 0.834231676685497,\n        \"min\": 1.811921399999724,\n        \"max\": 3.8699061999996784,\n        \"num_unique_values\": 5,\n        \"samples\": [\n          1.811921399999724,\n          3.265932399999678,\n          3.06460779999982\n        ],\n        \"semantic_type\": \"\",\n        \"description\": \"\"\n      }\n    },\n    {\n      \"column\": \"max_wind_direction_9am\",\n      \"properties\": {\n        \"dtype\": \"number\",\n        \"std\": 38.48460731253472,\n        \"min\": 125.8999999999999,\n        \"max\": 227.39999999999992,\n        \"num_unique_values\": 5,\n        \"samples\": [\n          227.39999999999992,\n          125.8999999999999,\n          200.79999999999995\n        ],\n        \"semantic_type\": \"\",\n        \"description\": \"\"\n      }\n    },\n    {\n      \"column\": \"max_wind_speed_9am\",\n      \"properties\": {\n        \"dtype\": \"number\",\n        \"std\": 1.0984947068202735,\n        \"min\": 2.3711563999999368,\n        \"max\": 5.212070199999932,\n        \"num_unique_values\": 5,\n        \"samples\": [\n          2.3711563999999368,\n          4.451510599999944,\n          3.892275600000047\n        ],\n        \"semantic_type\": \"\",\n        \"description\": \"\"\n      }\n    },\n    {\n      \"column\": \"rain_accumulation_9am\",\n      \"properties\": {\n        \"dtype\": \"number\",\n        \"std\": 0.0,\n        \"min\": 0.0,\n        \"max\": 0.0,\n        \"num_unique_values\": 1,\n        \"samples\": [\n          0.0\n        ],\n        \"semantic_type\": \"\",\n        \"description\": \"\"\n      }\n    },\n    {\n      \"column\": \"rain_duration_9am\",\n      \"properties\": {\n        \"dtype\": \"number\",\n        \"std\": 0.0,\n        \"min\": 0.0,\n        \"max\": 0.0,\n        \"num_unique_values\": 1,\n        \"samples\": [\n          0.0\n        ],\n        \"semantic_type\": \"\",\n        \"description\": \"\"\n      }\n    },\n    {\n      \"column\": \"relative_humidity_9am\",\n      \"properties\": {\n        \"dtype\": \"number\",\n        \"std\": 30.347571072492983,\n        \"min\": 14.559999999999992,\n        \"max\": 90.3500000000006,\n        \"num_unique_values\": 5,\n        \"samples\": [\n          90.3500000000006\n        ],\n        \"semantic_type\": \"\",\n        \"description\": \"\"\n      }\n    },\n    {\n      \"column\": \"relative_humidity_3pm\",\n      \"properties\": {\n        \"dtype\": \"number\",\n        \"std\": 22.04345526454528,\n        \"min\": 15.1,\n        \"max\": 73.34000000000063,\n        \"num_unique_values\": 5,\n        \"samples\": [\n          73.34000000000063\n        ],\n        \"semantic_type\": \"\",\n        \"description\": \"\"\n      }\n    }\n  ]\n}",
       "type": "dataframe"
      },
      "text/html": [
       "\n",
       "  <div id=\"df-25176820-91d8-4dfc-a071-e8901a075728\" class=\"colab-df-container\">\n",
       "    <div>\n",
       "<style scoped>\n",
       "    .dataframe tbody tr th:only-of-type {\n",
       "        vertical-align: middle;\n",
       "    }\n",
       "\n",
       "    .dataframe tbody tr th {\n",
       "        vertical-align: top;\n",
       "    }\n",
       "\n",
       "    .dataframe thead th {\n",
       "        text-align: right;\n",
       "    }\n",
       "</style>\n",
       "<table border=\"1\" class=\"dataframe\">\n",
       "  <thead>\n",
       "    <tr style=\"text-align: right;\">\n",
       "      <th></th>\n",
       "      <th>number</th>\n",
       "      <th>air_pressure_9am</th>\n",
       "      <th>air_temp_9am</th>\n",
       "      <th>avg_wind_direction_9am</th>\n",
       "      <th>avg_wind_speed_9am</th>\n",
       "      <th>max_wind_direction_9am</th>\n",
       "      <th>max_wind_speed_9am</th>\n",
       "      <th>rain_accumulation_9am</th>\n",
       "      <th>rain_duration_9am</th>\n",
       "      <th>relative_humidity_9am</th>\n",
       "      <th>relative_humidity_3pm</th>\n",
       "    </tr>\n",
       "  </thead>\n",
       "  <tbody>\n",
       "    <tr>\n",
       "      <th>1090</th>\n",
       "      <td>1090</td>\n",
       "      <td>918.90</td>\n",
       "      <td>63.104</td>\n",
       "      <td>192.9</td>\n",
       "      <td>3.869906</td>\n",
       "      <td>207.3</td>\n",
       "      <td>5.212070</td>\n",
       "      <td>0.0</td>\n",
       "      <td>0.0</td>\n",
       "      <td>26.02</td>\n",
       "      <td>38.18</td>\n",
       "    </tr>\n",
       "    <tr>\n",
       "      <th>1091</th>\n",
       "      <td>1091</td>\n",
       "      <td>918.71</td>\n",
       "      <td>49.568</td>\n",
       "      <td>241.6</td>\n",
       "      <td>1.811921</td>\n",
       "      <td>227.4</td>\n",
       "      <td>2.371156</td>\n",
       "      <td>0.0</td>\n",
       "      <td>0.0</td>\n",
       "      <td>90.35</td>\n",
       "      <td>73.34</td>\n",
       "    </tr>\n",
       "    <tr>\n",
       "      <th>1092</th>\n",
       "      <td>1092</td>\n",
       "      <td>916.60</td>\n",
       "      <td>71.096</td>\n",
       "      <td>189.3</td>\n",
       "      <td>3.064608</td>\n",
       "      <td>200.8</td>\n",
       "      <td>3.892276</td>\n",
       "      <td>0.0</td>\n",
       "      <td>0.0</td>\n",
       "      <td>45.59</td>\n",
       "      <td>52.31</td>\n",
       "    </tr>\n",
       "    <tr>\n",
       "      <th>1093</th>\n",
       "      <td>1093</td>\n",
       "      <td>912.60</td>\n",
       "      <td>58.406</td>\n",
       "      <td>172.7</td>\n",
       "      <td>3.825167</td>\n",
       "      <td>189.1</td>\n",
       "      <td>4.764682</td>\n",
       "      <td>0.0</td>\n",
       "      <td>0.0</td>\n",
       "      <td>64.84</td>\n",
       "      <td>58.28</td>\n",
       "    </tr>\n",
       "    <tr>\n",
       "      <th>1094</th>\n",
       "      <td>1094</td>\n",
       "      <td>921.53</td>\n",
       "      <td>77.702</td>\n",
       "      <td>97.1</td>\n",
       "      <td>3.265932</td>\n",
       "      <td>125.9</td>\n",
       "      <td>4.451511</td>\n",
       "      <td>0.0</td>\n",
       "      <td>0.0</td>\n",
       "      <td>14.56</td>\n",
       "      <td>15.10</td>\n",
       "    </tr>\n",
       "  </tbody>\n",
       "</table>\n",
       "</div>\n",
       "    <div class=\"colab-df-buttons\">\n",
       "\n",
       "  <div class=\"colab-df-container\">\n",
       "    <button class=\"colab-df-convert\" onclick=\"convertToInteractive('df-25176820-91d8-4dfc-a071-e8901a075728')\"\n",
       "            title=\"Convert this dataframe to an interactive table.\"\n",
       "            style=\"display:none;\">\n",
       "\n",
       "  <svg xmlns=\"http://www.w3.org/2000/svg\" height=\"24px\" viewBox=\"0 -960 960 960\">\n",
       "    <path d=\"M120-120v-720h720v720H120Zm60-500h600v-160H180v160Zm220 220h160v-160H400v160Zm0 220h160v-160H400v160ZM180-400h160v-160H180v160Zm440 0h160v-160H620v160ZM180-180h160v-160H180v160Zm440 0h160v-160H620v160Z\"/>\n",
       "  </svg>\n",
       "    </button>\n",
       "\n",
       "  <style>\n",
       "    .colab-df-container {\n",
       "      display:flex;\n",
       "      gap: 12px;\n",
       "    }\n",
       "\n",
       "    .colab-df-convert {\n",
       "      background-color: #E8F0FE;\n",
       "      border: none;\n",
       "      border-radius: 50%;\n",
       "      cursor: pointer;\n",
       "      display: none;\n",
       "      fill: #1967D2;\n",
       "      height: 32px;\n",
       "      padding: 0 0 0 0;\n",
       "      width: 32px;\n",
       "    }\n",
       "\n",
       "    .colab-df-convert:hover {\n",
       "      background-color: #E2EBFA;\n",
       "      box-shadow: 0px 1px 2px rgba(60, 64, 67, 0.3), 0px 1px 3px 1px rgba(60, 64, 67, 0.15);\n",
       "      fill: #174EA6;\n",
       "    }\n",
       "\n",
       "    .colab-df-buttons div {\n",
       "      margin-bottom: 4px;\n",
       "    }\n",
       "\n",
       "    [theme=dark] .colab-df-convert {\n",
       "      background-color: #3B4455;\n",
       "      fill: #D2E3FC;\n",
       "    }\n",
       "\n",
       "    [theme=dark] .colab-df-convert:hover {\n",
       "      background-color: #434B5C;\n",
       "      box-shadow: 0px 1px 3px 1px rgba(0, 0, 0, 0.15);\n",
       "      filter: drop-shadow(0px 1px 2px rgba(0, 0, 0, 0.3));\n",
       "      fill: #FFFFFF;\n",
       "    }\n",
       "  </style>\n",
       "\n",
       "    <script>\n",
       "      const buttonEl =\n",
       "        document.querySelector('#df-25176820-91d8-4dfc-a071-e8901a075728 button.colab-df-convert');\n",
       "      buttonEl.style.display =\n",
       "        google.colab.kernel.accessAllowed ? 'block' : 'none';\n",
       "\n",
       "      async function convertToInteractive(key) {\n",
       "        const element = document.querySelector('#df-25176820-91d8-4dfc-a071-e8901a075728');\n",
       "        const dataTable =\n",
       "          await google.colab.kernel.invokeFunction('convertToInteractive',\n",
       "                                                    [key], {});\n",
       "        if (!dataTable) return;\n",
       "\n",
       "        const docLinkHtml = 'Like what you see? Visit the ' +\n",
       "          '<a target=\"_blank\" href=https://colab.research.google.com/notebooks/data_table.ipynb>data table notebook</a>'\n",
       "          + ' to learn more about interactive tables.';\n",
       "        element.innerHTML = '';\n",
       "        dataTable['output_type'] = 'display_data';\n",
       "        await google.colab.output.renderOutput(dataTable, element);\n",
       "        const docLink = document.createElement('div');\n",
       "        docLink.innerHTML = docLinkHtml;\n",
       "        element.appendChild(docLink);\n",
       "      }\n",
       "    </script>\n",
       "  </div>\n",
       "\n",
       "\n",
       "<div id=\"df-6e1d0fc7-68fe-4c98-a057-a68d83bd14bd\">\n",
       "  <button class=\"colab-df-quickchart\" onclick=\"quickchart('df-6e1d0fc7-68fe-4c98-a057-a68d83bd14bd')\"\n",
       "            title=\"Suggest charts\"\n",
       "            style=\"display:none;\">\n",
       "\n",
       "<svg xmlns=\"http://www.w3.org/2000/svg\" height=\"24px\"viewBox=\"0 0 24 24\"\n",
       "     width=\"24px\">\n",
       "    <g>\n",
       "        <path d=\"M19 3H5c-1.1 0-2 .9-2 2v14c0 1.1.9 2 2 2h14c1.1 0 2-.9 2-2V5c0-1.1-.9-2-2-2zM9 17H7v-7h2v7zm4 0h-2V7h2v10zm4 0h-2v-4h2v4z\"/>\n",
       "    </g>\n",
       "</svg>\n",
       "  </button>\n",
       "\n",
       "<style>\n",
       "  .colab-df-quickchart {\n",
       "      --bg-color: #E8F0FE;\n",
       "      --fill-color: #1967D2;\n",
       "      --hover-bg-color: #E2EBFA;\n",
       "      --hover-fill-color: #174EA6;\n",
       "      --disabled-fill-color: #AAA;\n",
       "      --disabled-bg-color: #DDD;\n",
       "  }\n",
       "\n",
       "  [theme=dark] .colab-df-quickchart {\n",
       "      --bg-color: #3B4455;\n",
       "      --fill-color: #D2E3FC;\n",
       "      --hover-bg-color: #434B5C;\n",
       "      --hover-fill-color: #FFFFFF;\n",
       "      --disabled-bg-color: #3B4455;\n",
       "      --disabled-fill-color: #666;\n",
       "  }\n",
       "\n",
       "  .colab-df-quickchart {\n",
       "    background-color: var(--bg-color);\n",
       "    border: none;\n",
       "    border-radius: 50%;\n",
       "    cursor: pointer;\n",
       "    display: none;\n",
       "    fill: var(--fill-color);\n",
       "    height: 32px;\n",
       "    padding: 0;\n",
       "    width: 32px;\n",
       "  }\n",
       "\n",
       "  .colab-df-quickchart:hover {\n",
       "    background-color: var(--hover-bg-color);\n",
       "    box-shadow: 0 1px 2px rgba(60, 64, 67, 0.3), 0 1px 3px 1px rgba(60, 64, 67, 0.15);\n",
       "    fill: var(--button-hover-fill-color);\n",
       "  }\n",
       "\n",
       "  .colab-df-quickchart-complete:disabled,\n",
       "  .colab-df-quickchart-complete:disabled:hover {\n",
       "    background-color: var(--disabled-bg-color);\n",
       "    fill: var(--disabled-fill-color);\n",
       "    box-shadow: none;\n",
       "  }\n",
       "\n",
       "  .colab-df-spinner {\n",
       "    border: 2px solid var(--fill-color);\n",
       "    border-color: transparent;\n",
       "    border-bottom-color: var(--fill-color);\n",
       "    animation:\n",
       "      spin 1s steps(1) infinite;\n",
       "  }\n",
       "\n",
       "  @keyframes spin {\n",
       "    0% {\n",
       "      border-color: transparent;\n",
       "      border-bottom-color: var(--fill-color);\n",
       "      border-left-color: var(--fill-color);\n",
       "    }\n",
       "    20% {\n",
       "      border-color: transparent;\n",
       "      border-left-color: var(--fill-color);\n",
       "      border-top-color: var(--fill-color);\n",
       "    }\n",
       "    30% {\n",
       "      border-color: transparent;\n",
       "      border-left-color: var(--fill-color);\n",
       "      border-top-color: var(--fill-color);\n",
       "      border-right-color: var(--fill-color);\n",
       "    }\n",
       "    40% {\n",
       "      border-color: transparent;\n",
       "      border-right-color: var(--fill-color);\n",
       "      border-top-color: var(--fill-color);\n",
       "    }\n",
       "    60% {\n",
       "      border-color: transparent;\n",
       "      border-right-color: var(--fill-color);\n",
       "    }\n",
       "    80% {\n",
       "      border-color: transparent;\n",
       "      border-right-color: var(--fill-color);\n",
       "      border-bottom-color: var(--fill-color);\n",
       "    }\n",
       "    90% {\n",
       "      border-color: transparent;\n",
       "      border-bottom-color: var(--fill-color);\n",
       "    }\n",
       "  }\n",
       "</style>\n",
       "\n",
       "  <script>\n",
       "    async function quickchart(key) {\n",
       "      const quickchartButtonEl =\n",
       "        document.querySelector('#' + key + ' button');\n",
       "      quickchartButtonEl.disabled = true;  // To prevent multiple clicks.\n",
       "      quickchartButtonEl.classList.add('colab-df-spinner');\n",
       "      try {\n",
       "        const charts = await google.colab.kernel.invokeFunction(\n",
       "            'suggestCharts', [key], {});\n",
       "      } catch (error) {\n",
       "        console.error('Error during call to suggestCharts:', error);\n",
       "      }\n",
       "      quickchartButtonEl.classList.remove('colab-df-spinner');\n",
       "      quickchartButtonEl.classList.add('colab-df-quickchart-complete');\n",
       "    }\n",
       "    (() => {\n",
       "      let quickchartButtonEl =\n",
       "        document.querySelector('#df-6e1d0fc7-68fe-4c98-a057-a68d83bd14bd button');\n",
       "      quickchartButtonEl.style.display =\n",
       "        google.colab.kernel.accessAllowed ? 'block' : 'none';\n",
       "    })();\n",
       "  </script>\n",
       "</div>\n",
       "\n",
       "    </div>\n",
       "  </div>\n"
      ],
      "text/plain": [
       "      number  air_pressure_9am  air_temp_9am  avg_wind_direction_9am  \\\n",
       "1090    1090            918.90        63.104                   192.9   \n",
       "1091    1091            918.71        49.568                   241.6   \n",
       "1092    1092            916.60        71.096                   189.3   \n",
       "1093    1093            912.60        58.406                   172.7   \n",
       "1094    1094            921.53        77.702                    97.1   \n",
       "\n",
       "      avg_wind_speed_9am  max_wind_direction_9am  max_wind_speed_9am  \\\n",
       "1090            3.869906                   207.3            5.212070   \n",
       "1091            1.811921                   227.4            2.371156   \n",
       "1092            3.064608                   200.8            3.892276   \n",
       "1093            3.825167                   189.1            4.764682   \n",
       "1094            3.265932                   125.9            4.451511   \n",
       "\n",
       "      rain_accumulation_9am  rain_duration_9am  relative_humidity_9am  \\\n",
       "1090                    0.0                0.0                  26.02   \n",
       "1091                    0.0                0.0                  90.35   \n",
       "1092                    0.0                0.0                  45.59   \n",
       "1093                    0.0                0.0                  64.84   \n",
       "1094                    0.0                0.0                  14.56   \n",
       "\n",
       "      relative_humidity_3pm  \n",
       "1090                  38.18  \n",
       "1091                  73.34  \n",
       "1092                  52.31  \n",
       "1093                  58.28  \n",
       "1094                  15.10  "
      ]
     },
     "execution_count": 7,
     "metadata": {},
     "output_type": "execute_result"
    }
   ],
   "source": [
    "data.tail()"
   ]
  },
  {
   "cell_type": "markdown",
   "metadata": {
    "id": "yhB9tbWnW32P"
   },
   "source": [
    "* This is regression problem\n",
    "* Dependent Variable : relative_humidity_3pm"
   ]
  },
  {
   "cell_type": "code",
   "execution_count": 8,
   "metadata": {
    "colab": {
     "base_uri": "https://localhost:8080/"
    },
    "executionInfo": {
     "elapsed": 13,
     "status": "ok",
     "timestamp": 1721037155634,
     "user": {
      "displayName": "AVINASH PAWAR",
      "userId": "04075460652633853489"
     },
     "user_tz": -330
    },
    "id": "U5CvHBIoVzfl",
    "outputId": "e261935a-8633-4e7c-f0e9-9664a36ff835"
   },
   "outputs": [
    {
     "name": "stdout",
     "output_type": "stream",
     "text": [
      "<class 'pandas.core.frame.DataFrame'>\n",
      "RangeIndex: 1095 entries, 0 to 1094\n",
      "Data columns (total 11 columns):\n",
      " #   Column                  Non-Null Count  Dtype  \n",
      "---  ------                  --------------  -----  \n",
      " 0   number                  1095 non-null   int64  \n",
      " 1   air_pressure_9am        1092 non-null   float64\n",
      " 2   air_temp_9am            1090 non-null   float64\n",
      " 3   avg_wind_direction_9am  1091 non-null   float64\n",
      " 4   avg_wind_speed_9am      1092 non-null   float64\n",
      " 5   max_wind_direction_9am  1092 non-null   float64\n",
      " 6   max_wind_speed_9am      1091 non-null   float64\n",
      " 7   rain_accumulation_9am   1089 non-null   float64\n",
      " 8   rain_duration_9am       1092 non-null   float64\n",
      " 9   relative_humidity_9am   1095 non-null   float64\n",
      " 10  relative_humidity_3pm   1095 non-null   float64\n",
      "dtypes: float64(10), int64(1)\n",
      "memory usage: 94.2 KB\n"
     ]
    }
   ],
   "source": [
    "data.info()"
   ]
  },
  {
   "cell_type": "markdown",
   "metadata": {
    "id": "fiaq_N6HZ6tQ"
   },
   "source": [
    "* Data Describe and observer data\n",
    "* Data vailidation no negative values"
   ]
  },
  {
   "cell_type": "code",
   "execution_count": 9,
   "metadata": {
    "colab": {
     "base_uri": "https://localhost:8080/",
     "height": 300
    },
    "executionInfo": {
     "elapsed": 13,
     "status": "ok",
     "timestamp": 1721037155635,
     "user": {
      "displayName": "AVINASH PAWAR",
      "userId": "04075460652633853489"
     },
     "user_tz": -330
    },
    "id": "_iq5kunCYvP4",
    "outputId": "419bc172-5c68-4373-b588-cca159e0d27f"
   },
   "outputs": [
    {
     "data": {
      "application/vnd.google.colaboratory.intrinsic+json": {
       "summary": "{\n  \"name\": \"data\",\n  \"rows\": 8,\n  \"fields\": [\n    {\n      \"column\": \"number\",\n      \"properties\": {\n        \"dtype\": \"number\",\n        \"std\": 394.4244615090531,\n        \"min\": 0.0,\n        \"max\": 1095.0,\n        \"num_unique_values\": 7,\n        \"samples\": [\n          1095.0,\n          547.0,\n          820.5\n        ],\n        \"semantic_type\": \"\",\n        \"description\": \"\"\n      }\n    },\n    {\n      \"column\": \"air_pressure_9am\",\n      \"properties\": {\n        \"dtype\": \"number\",\n        \"std\": 337.99736221634276,\n        \"min\": 3.184161180386822,\n        \"max\": 1092.0,\n        \"num_unique_values\": 8,\n        \"samples\": [\n          918.8825513138099,\n          918.9210452583593,\n          1092.0\n        ],\n        \"semantic_type\": \"\",\n        \"description\": \"\"\n      }\n    },\n    {\n      \"column\": \"air_temp_9am\",\n      \"properties\": {\n        \"dtype\": \"number\",\n        \"std\": 365.66736230175763,\n        \"min\": 11.17551400317588,\n        \"max\": 1090.0,\n        \"num_unique_values\": 8,\n        \"samples\": [\n          64.93300141287074,\n          65.7154790488537,\n          1090.0\n        ],\n        \"semantic_type\": \"\",\n        \"description\": \"\"\n      }\n    },\n    {\n      \"column\": \"avg_wind_direction_9am\",\n      \"properties\": {\n        \"dtype\": \"number\",\n        \"std\": 350.2723545510663,\n        \"min\": 15.500000000000046,\n        \"max\": 1091.0,\n        \"num_unique_values\": 8,\n        \"samples\": [\n          142.23551070057582,\n          166.0,\n          1091.0\n        ],\n        \"semantic_type\": \"\",\n        \"description\": \"\"\n      }\n    },\n    {\n      \"column\": \"avg_wind_speed_9am\",\n      \"properties\": {\n        \"dtype\": \"number\",\n        \"std\": 383.73367303548787,\n        \"min\": 0.69345139999974,\n        \"max\": 1092.0,\n        \"num_unique_values\": 8,\n        \"samples\": [\n          5.508284242254928,\n          3.8713333518840805,\n          1092.0\n        ],\n        \"semantic_type\": \"\",\n        \"description\": \"\"\n      }\n    },\n    {\n      \"column\": \"max_wind_direction_9am\",\n      \"properties\": {\n        \"dtype\": \"number\",\n        \"std\": 346.76379439539727,\n        \"min\": 28.89999999999991,\n        \"max\": 1092.0,\n        \"num_unique_values\": 8,\n        \"samples\": [\n          148.95351796516928,\n          177.29999999999993,\n          1092.0\n        ],\n        \"semantic_type\": \"\",\n        \"description\": \"\"\n      }\n    },\n    {\n      \"column\": \"max_wind_speed_9am\",\n      \"properties\": {\n        \"dtype\": \"number\",\n        \"std\": 382.7706758425224,\n        \"min\": 1.185578200000048,\n        \"max\": 1091.0,\n        \"num_unique_values\": 8,\n        \"samples\": [\n          7.0195135291752715,\n          4.943637399999937,\n          1091.0\n        ],\n        \"semantic_type\": \"\",\n        \"description\": \"\"\n      }\n    },\n    {\n      \"column\": \"rain_accumulation_9am\",\n      \"properties\": {\n        \"dtype\": \"number\",\n        \"std\": 383.8058318113567,\n        \"min\": 0.0,\n        \"max\": 1089.0,\n        \"num_unique_values\": 5,\n        \"samples\": [\n          0.20307895225211123,\n          24.01999999999907,\n          1.5939521253574893\n        ],\n        \"semantic_type\": \"\",\n        \"description\": \"\"\n      }\n    },\n    {\n      \"column\": \"rain_duration_9am\",\n      \"properties\": {\n        \"dtype\": \"number\",\n        \"std\": 6138.45374940691,\n        \"min\": 0.0,\n        \"max\": 17704.0,\n        \"num_unique_values\": 5,\n        \"samples\": [\n          294.1080522756142,\n          17704.0,\n          1598.0787786601477\n        ],\n        \"semantic_type\": \"\",\n        \"description\": \"\"\n      }\n    },\n    {\n      \"column\": \"relative_humidity_9am\",\n      \"properties\": {\n        \"dtype\": \"number\",\n        \"std\": 375.84384975345296,\n        \"min\": 6.090000000001012,\n        \"max\": 1095.0,\n        \"num_unique_values\": 8,\n        \"samples\": [\n          34.24140205923537,\n          23.179259298119568,\n          1095.0\n        ],\n        \"semantic_type\": \"\",\n        \"description\": \"\"\n      }\n    },\n    {\n      \"column\": \"relative_humidity_3pm\",\n      \"properties\": {\n        \"dtype\": \"number\",\n        \"std\": 375.50911408893006,\n        \"min\": 5.3000000000006855,\n        \"max\": 1095.0,\n        \"num_unique_values\": 8,\n        \"samples\": [\n          35.34472714825901,\n          24.380000000000344,\n          1095.0\n        ],\n        \"semantic_type\": \"\",\n        \"description\": \"\"\n      }\n    }\n  ]\n}",
       "type": "dataframe"
      },
      "text/html": [
       "\n",
       "  <div id=\"df-6ffd46fc-4977-40e6-9095-274f4905773c\" class=\"colab-df-container\">\n",
       "    <div>\n",
       "<style scoped>\n",
       "    .dataframe tbody tr th:only-of-type {\n",
       "        vertical-align: middle;\n",
       "    }\n",
       "\n",
       "    .dataframe tbody tr th {\n",
       "        vertical-align: top;\n",
       "    }\n",
       "\n",
       "    .dataframe thead th {\n",
       "        text-align: right;\n",
       "    }\n",
       "</style>\n",
       "<table border=\"1\" class=\"dataframe\">\n",
       "  <thead>\n",
       "    <tr style=\"text-align: right;\">\n",
       "      <th></th>\n",
       "      <th>number</th>\n",
       "      <th>air_pressure_9am</th>\n",
       "      <th>air_temp_9am</th>\n",
       "      <th>avg_wind_direction_9am</th>\n",
       "      <th>avg_wind_speed_9am</th>\n",
       "      <th>max_wind_direction_9am</th>\n",
       "      <th>max_wind_speed_9am</th>\n",
       "      <th>rain_accumulation_9am</th>\n",
       "      <th>rain_duration_9am</th>\n",
       "      <th>relative_humidity_9am</th>\n",
       "      <th>relative_humidity_3pm</th>\n",
       "    </tr>\n",
       "  </thead>\n",
       "  <tbody>\n",
       "    <tr>\n",
       "      <th>count</th>\n",
       "      <td>1095.000000</td>\n",
       "      <td>1092.000000</td>\n",
       "      <td>1090.000000</td>\n",
       "      <td>1091.000000</td>\n",
       "      <td>1092.000000</td>\n",
       "      <td>1092.000000</td>\n",
       "      <td>1091.000000</td>\n",
       "      <td>1089.000000</td>\n",
       "      <td>1092.000000</td>\n",
       "      <td>1095.000000</td>\n",
       "      <td>1095.000000</td>\n",
       "    </tr>\n",
       "    <tr>\n",
       "      <th>mean</th>\n",
       "      <td>547.000000</td>\n",
       "      <td>918.882551</td>\n",
       "      <td>64.933001</td>\n",
       "      <td>142.235511</td>\n",
       "      <td>5.508284</td>\n",
       "      <td>148.953518</td>\n",
       "      <td>7.019514</td>\n",
       "      <td>0.203079</td>\n",
       "      <td>294.108052</td>\n",
       "      <td>34.241402</td>\n",
       "      <td>35.344727</td>\n",
       "    </tr>\n",
       "    <tr>\n",
       "      <th>std</th>\n",
       "      <td>316.243577</td>\n",
       "      <td>3.184161</td>\n",
       "      <td>11.175514</td>\n",
       "      <td>69.137859</td>\n",
       "      <td>4.552813</td>\n",
       "      <td>67.238013</td>\n",
       "      <td>5.598209</td>\n",
       "      <td>1.593952</td>\n",
       "      <td>1598.078779</td>\n",
       "      <td>25.472067</td>\n",
       "      <td>22.524079</td>\n",
       "    </tr>\n",
       "    <tr>\n",
       "      <th>min</th>\n",
       "      <td>0.000000</td>\n",
       "      <td>907.990000</td>\n",
       "      <td>36.752000</td>\n",
       "      <td>15.500000</td>\n",
       "      <td>0.693451</td>\n",
       "      <td>28.900000</td>\n",
       "      <td>1.185578</td>\n",
       "      <td>0.000000</td>\n",
       "      <td>0.000000</td>\n",
       "      <td>6.090000</td>\n",
       "      <td>5.300000</td>\n",
       "    </tr>\n",
       "    <tr>\n",
       "      <th>25%</th>\n",
       "      <td>273.500000</td>\n",
       "      <td>916.550000</td>\n",
       "      <td>57.281000</td>\n",
       "      <td>65.972506</td>\n",
       "      <td>2.248768</td>\n",
       "      <td>76.553003</td>\n",
       "      <td>3.067477</td>\n",
       "      <td>0.000000</td>\n",
       "      <td>0.000000</td>\n",
       "      <td>15.092243</td>\n",
       "      <td>17.395000</td>\n",
       "    </tr>\n",
       "    <tr>\n",
       "      <th>50%</th>\n",
       "      <td>547.000000</td>\n",
       "      <td>918.921045</td>\n",
       "      <td>65.715479</td>\n",
       "      <td>166.000000</td>\n",
       "      <td>3.871333</td>\n",
       "      <td>177.300000</td>\n",
       "      <td>4.943637</td>\n",
       "      <td>0.000000</td>\n",
       "      <td>0.000000</td>\n",
       "      <td>23.179259</td>\n",
       "      <td>24.380000</td>\n",
       "    </tr>\n",
       "    <tr>\n",
       "      <th>75%</th>\n",
       "      <td>820.500000</td>\n",
       "      <td>921.160073</td>\n",
       "      <td>73.450974</td>\n",
       "      <td>191.000000</td>\n",
       "      <td>7.337163</td>\n",
       "      <td>201.233153</td>\n",
       "      <td>8.947760</td>\n",
       "      <td>0.000000</td>\n",
       "      <td>0.000000</td>\n",
       "      <td>45.400000</td>\n",
       "      <td>52.060000</td>\n",
       "    </tr>\n",
       "    <tr>\n",
       "      <th>max</th>\n",
       "      <td>1094.000000</td>\n",
       "      <td>929.320000</td>\n",
       "      <td>98.906000</td>\n",
       "      <td>343.400000</td>\n",
       "      <td>23.554978</td>\n",
       "      <td>312.200000</td>\n",
       "      <td>29.840780</td>\n",
       "      <td>24.020000</td>\n",
       "      <td>17704.000000</td>\n",
       "      <td>92.620000</td>\n",
       "      <td>92.250000</td>\n",
       "    </tr>\n",
       "  </tbody>\n",
       "</table>\n",
       "</div>\n",
       "    <div class=\"colab-df-buttons\">\n",
       "\n",
       "  <div class=\"colab-df-container\">\n",
       "    <button class=\"colab-df-convert\" onclick=\"convertToInteractive('df-6ffd46fc-4977-40e6-9095-274f4905773c')\"\n",
       "            title=\"Convert this dataframe to an interactive table.\"\n",
       "            style=\"display:none;\">\n",
       "\n",
       "  <svg xmlns=\"http://www.w3.org/2000/svg\" height=\"24px\" viewBox=\"0 -960 960 960\">\n",
       "    <path d=\"M120-120v-720h720v720H120Zm60-500h600v-160H180v160Zm220 220h160v-160H400v160Zm0 220h160v-160H400v160ZM180-400h160v-160H180v160Zm440 0h160v-160H620v160ZM180-180h160v-160H180v160Zm440 0h160v-160H620v160Z\"/>\n",
       "  </svg>\n",
       "    </button>\n",
       "\n",
       "  <style>\n",
       "    .colab-df-container {\n",
       "      display:flex;\n",
       "      gap: 12px;\n",
       "    }\n",
       "\n",
       "    .colab-df-convert {\n",
       "      background-color: #E8F0FE;\n",
       "      border: none;\n",
       "      border-radius: 50%;\n",
       "      cursor: pointer;\n",
       "      display: none;\n",
       "      fill: #1967D2;\n",
       "      height: 32px;\n",
       "      padding: 0 0 0 0;\n",
       "      width: 32px;\n",
       "    }\n",
       "\n",
       "    .colab-df-convert:hover {\n",
       "      background-color: #E2EBFA;\n",
       "      box-shadow: 0px 1px 2px rgba(60, 64, 67, 0.3), 0px 1px 3px 1px rgba(60, 64, 67, 0.15);\n",
       "      fill: #174EA6;\n",
       "    }\n",
       "\n",
       "    .colab-df-buttons div {\n",
       "      margin-bottom: 4px;\n",
       "    }\n",
       "\n",
       "    [theme=dark] .colab-df-convert {\n",
       "      background-color: #3B4455;\n",
       "      fill: #D2E3FC;\n",
       "    }\n",
       "\n",
       "    [theme=dark] .colab-df-convert:hover {\n",
       "      background-color: #434B5C;\n",
       "      box-shadow: 0px 1px 3px 1px rgba(0, 0, 0, 0.15);\n",
       "      filter: drop-shadow(0px 1px 2px rgba(0, 0, 0, 0.3));\n",
       "      fill: #FFFFFF;\n",
       "    }\n",
       "  </style>\n",
       "\n",
       "    <script>\n",
       "      const buttonEl =\n",
       "        document.querySelector('#df-6ffd46fc-4977-40e6-9095-274f4905773c button.colab-df-convert');\n",
       "      buttonEl.style.display =\n",
       "        google.colab.kernel.accessAllowed ? 'block' : 'none';\n",
       "\n",
       "      async function convertToInteractive(key) {\n",
       "        const element = document.querySelector('#df-6ffd46fc-4977-40e6-9095-274f4905773c');\n",
       "        const dataTable =\n",
       "          await google.colab.kernel.invokeFunction('convertToInteractive',\n",
       "                                                    [key], {});\n",
       "        if (!dataTable) return;\n",
       "\n",
       "        const docLinkHtml = 'Like what you see? Visit the ' +\n",
       "          '<a target=\"_blank\" href=https://colab.research.google.com/notebooks/data_table.ipynb>data table notebook</a>'\n",
       "          + ' to learn more about interactive tables.';\n",
       "        element.innerHTML = '';\n",
       "        dataTable['output_type'] = 'display_data';\n",
       "        await google.colab.output.renderOutput(dataTable, element);\n",
       "        const docLink = document.createElement('div');\n",
       "        docLink.innerHTML = docLinkHtml;\n",
       "        element.appendChild(docLink);\n",
       "      }\n",
       "    </script>\n",
       "  </div>\n",
       "\n",
       "\n",
       "<div id=\"df-5db72ec4-91d6-4e49-8bcc-b8f596ae62b5\">\n",
       "  <button class=\"colab-df-quickchart\" onclick=\"quickchart('df-5db72ec4-91d6-4e49-8bcc-b8f596ae62b5')\"\n",
       "            title=\"Suggest charts\"\n",
       "            style=\"display:none;\">\n",
       "\n",
       "<svg xmlns=\"http://www.w3.org/2000/svg\" height=\"24px\"viewBox=\"0 0 24 24\"\n",
       "     width=\"24px\">\n",
       "    <g>\n",
       "        <path d=\"M19 3H5c-1.1 0-2 .9-2 2v14c0 1.1.9 2 2 2h14c1.1 0 2-.9 2-2V5c0-1.1-.9-2-2-2zM9 17H7v-7h2v7zm4 0h-2V7h2v10zm4 0h-2v-4h2v4z\"/>\n",
       "    </g>\n",
       "</svg>\n",
       "  </button>\n",
       "\n",
       "<style>\n",
       "  .colab-df-quickchart {\n",
       "      --bg-color: #E8F0FE;\n",
       "      --fill-color: #1967D2;\n",
       "      --hover-bg-color: #E2EBFA;\n",
       "      --hover-fill-color: #174EA6;\n",
       "      --disabled-fill-color: #AAA;\n",
       "      --disabled-bg-color: #DDD;\n",
       "  }\n",
       "\n",
       "  [theme=dark] .colab-df-quickchart {\n",
       "      --bg-color: #3B4455;\n",
       "      --fill-color: #D2E3FC;\n",
       "      --hover-bg-color: #434B5C;\n",
       "      --hover-fill-color: #FFFFFF;\n",
       "      --disabled-bg-color: #3B4455;\n",
       "      --disabled-fill-color: #666;\n",
       "  }\n",
       "\n",
       "  .colab-df-quickchart {\n",
       "    background-color: var(--bg-color);\n",
       "    border: none;\n",
       "    border-radius: 50%;\n",
       "    cursor: pointer;\n",
       "    display: none;\n",
       "    fill: var(--fill-color);\n",
       "    height: 32px;\n",
       "    padding: 0;\n",
       "    width: 32px;\n",
       "  }\n",
       "\n",
       "  .colab-df-quickchart:hover {\n",
       "    background-color: var(--hover-bg-color);\n",
       "    box-shadow: 0 1px 2px rgba(60, 64, 67, 0.3), 0 1px 3px 1px rgba(60, 64, 67, 0.15);\n",
       "    fill: var(--button-hover-fill-color);\n",
       "  }\n",
       "\n",
       "  .colab-df-quickchart-complete:disabled,\n",
       "  .colab-df-quickchart-complete:disabled:hover {\n",
       "    background-color: var(--disabled-bg-color);\n",
       "    fill: var(--disabled-fill-color);\n",
       "    box-shadow: none;\n",
       "  }\n",
       "\n",
       "  .colab-df-spinner {\n",
       "    border: 2px solid var(--fill-color);\n",
       "    border-color: transparent;\n",
       "    border-bottom-color: var(--fill-color);\n",
       "    animation:\n",
       "      spin 1s steps(1) infinite;\n",
       "  }\n",
       "\n",
       "  @keyframes spin {\n",
       "    0% {\n",
       "      border-color: transparent;\n",
       "      border-bottom-color: var(--fill-color);\n",
       "      border-left-color: var(--fill-color);\n",
       "    }\n",
       "    20% {\n",
       "      border-color: transparent;\n",
       "      border-left-color: var(--fill-color);\n",
       "      border-top-color: var(--fill-color);\n",
       "    }\n",
       "    30% {\n",
       "      border-color: transparent;\n",
       "      border-left-color: var(--fill-color);\n",
       "      border-top-color: var(--fill-color);\n",
       "      border-right-color: var(--fill-color);\n",
       "    }\n",
       "    40% {\n",
       "      border-color: transparent;\n",
       "      border-right-color: var(--fill-color);\n",
       "      border-top-color: var(--fill-color);\n",
       "    }\n",
       "    60% {\n",
       "      border-color: transparent;\n",
       "      border-right-color: var(--fill-color);\n",
       "    }\n",
       "    80% {\n",
       "      border-color: transparent;\n",
       "      border-right-color: var(--fill-color);\n",
       "      border-bottom-color: var(--fill-color);\n",
       "    }\n",
       "    90% {\n",
       "      border-color: transparent;\n",
       "      border-bottom-color: var(--fill-color);\n",
       "    }\n",
       "  }\n",
       "</style>\n",
       "\n",
       "  <script>\n",
       "    async function quickchart(key) {\n",
       "      const quickchartButtonEl =\n",
       "        document.querySelector('#' + key + ' button');\n",
       "      quickchartButtonEl.disabled = true;  // To prevent multiple clicks.\n",
       "      quickchartButtonEl.classList.add('colab-df-spinner');\n",
       "      try {\n",
       "        const charts = await google.colab.kernel.invokeFunction(\n",
       "            'suggestCharts', [key], {});\n",
       "      } catch (error) {\n",
       "        console.error('Error during call to suggestCharts:', error);\n",
       "      }\n",
       "      quickchartButtonEl.classList.remove('colab-df-spinner');\n",
       "      quickchartButtonEl.classList.add('colab-df-quickchart-complete');\n",
       "    }\n",
       "    (() => {\n",
       "      let quickchartButtonEl =\n",
       "        document.querySelector('#df-5db72ec4-91d6-4e49-8bcc-b8f596ae62b5 button');\n",
       "      quickchartButtonEl.style.display =\n",
       "        google.colab.kernel.accessAllowed ? 'block' : 'none';\n",
       "    })();\n",
       "  </script>\n",
       "</div>\n",
       "\n",
       "    </div>\n",
       "  </div>\n"
      ],
      "text/plain": [
       "            number  air_pressure_9am  air_temp_9am  avg_wind_direction_9am  \\\n",
       "count  1095.000000       1092.000000   1090.000000             1091.000000   \n",
       "mean    547.000000        918.882551     64.933001              142.235511   \n",
       "std     316.243577          3.184161     11.175514               69.137859   \n",
       "min       0.000000        907.990000     36.752000               15.500000   \n",
       "25%     273.500000        916.550000     57.281000               65.972506   \n",
       "50%     547.000000        918.921045     65.715479              166.000000   \n",
       "75%     820.500000        921.160073     73.450974              191.000000   \n",
       "max    1094.000000        929.320000     98.906000              343.400000   \n",
       "\n",
       "       avg_wind_speed_9am  max_wind_direction_9am  max_wind_speed_9am  \\\n",
       "count         1092.000000             1092.000000         1091.000000   \n",
       "mean             5.508284              148.953518            7.019514   \n",
       "std              4.552813               67.238013            5.598209   \n",
       "min              0.693451               28.900000            1.185578   \n",
       "25%              2.248768               76.553003            3.067477   \n",
       "50%              3.871333              177.300000            4.943637   \n",
       "75%              7.337163              201.233153            8.947760   \n",
       "max             23.554978              312.200000           29.840780   \n",
       "\n",
       "       rain_accumulation_9am  rain_duration_9am  relative_humidity_9am  \\\n",
       "count            1089.000000        1092.000000            1095.000000   \n",
       "mean                0.203079         294.108052              34.241402   \n",
       "std                 1.593952        1598.078779              25.472067   \n",
       "min                 0.000000           0.000000               6.090000   \n",
       "25%                 0.000000           0.000000              15.092243   \n",
       "50%                 0.000000           0.000000              23.179259   \n",
       "75%                 0.000000           0.000000              45.400000   \n",
       "max                24.020000       17704.000000              92.620000   \n",
       "\n",
       "       relative_humidity_3pm  \n",
       "count            1095.000000  \n",
       "mean               35.344727  \n",
       "std                22.524079  \n",
       "min                 5.300000  \n",
       "25%                17.395000  \n",
       "50%                24.380000  \n",
       "75%                52.060000  \n",
       "max                92.250000  "
      ]
     },
     "execution_count": 9,
     "metadata": {},
     "output_type": "execute_result"
    }
   ],
   "source": [
    "data.describe()"
   ]
  },
  {
   "cell_type": "markdown",
   "metadata": {
    "id": "lOlBzKkPbY1S"
   },
   "source": [
    "* fill missing value by its median"
   ]
  },
  {
   "cell_type": "code",
   "execution_count": 10,
   "metadata": {
    "colab": {
     "base_uri": "https://localhost:8080/"
    },
    "executionInfo": {
     "elapsed": 12,
     "status": "ok",
     "timestamp": 1721037155635,
     "user": {
      "displayName": "AVINASH PAWAR",
      "userId": "04075460652633853489"
     },
     "user_tz": -330
    },
    "id": "c388-5RXZ69A",
    "outputId": "adc64955-d988-410a-aa3d-d883dca20f6f"
   },
   "outputs": [
    {
     "data": {
      "text/plain": [
       "918.9210452583593"
      ]
     },
     "execution_count": 10,
     "metadata": {},
     "output_type": "execute_result"
    }
   ],
   "source": [
    "median_ap9am = data.air_pressure_9am.median()\n",
    "median_ap9am"
   ]
  },
  {
   "cell_type": "code",
   "execution_count": 13,
   "metadata": {
    "colab": {
     "base_uri": "https://localhost:8080/",
     "height": 141
    },
    "executionInfo": {
     "elapsed": 431,
     "status": "error",
     "timestamp": 1721037986022,
     "user": {
      "displayName": "AVINASH PAWAR",
      "userId": "04075460652633853489"
     },
     "user_tz": -330
    },
    "id": "Y5sw1By4aGf9",
    "outputId": "ecd24835-7184-4635-e665-8caf96b8115b"
   },
   "outputs": [
    {
     "ename": "TypeError",
     "evalue": "Series.fillna() got an unexpected keyword argument 'inplaace'",
     "output_type": "error",
     "traceback": [
      "\u001b[0;31m---------------------------------------------------------------------------\u001b[0m",
      "\u001b[0;31mTypeError\u001b[0m                                 Traceback (most recent call last)",
      "\u001b[0;32m<ipython-input-13-9f51d4b20978>\u001b[0m in \u001b[0;36m<cell line: 1>\u001b[0;34m()\u001b[0m\n\u001b[0;32m----> 1\u001b[0;31m \u001b[0mdata\u001b[0m\u001b[0;34m.\u001b[0m\u001b[0mair_pressure_9am\u001b[0m\u001b[0;34m.\u001b[0m\u001b[0mfillna\u001b[0m\u001b[0;34m(\u001b[0m\u001b[0mmedian_ap9am\u001b[0m\u001b[0;34m,\u001b[0m\u001b[0minplaace\u001b[0m\u001b[0;34m=\u001b[0m\u001b[0;32mTrue\u001b[0m\u001b[0;34m)\u001b[0m\u001b[0;34m\u001b[0m\u001b[0;34m\u001b[0m\u001b[0m\n\u001b[0m",
      "\u001b[0;31mTypeError\u001b[0m: Series.fillna() got an unexpected keyword argument 'inplaace'"
     ]
    }
   ],
   "source": [
    "data.air_pressure_9am.fillna(median_ap9am,inplaace=True)"
   ]
  },
  {
   "cell_type": "code",
   "execution_count": null,
   "metadata": {
    "executionInfo": {
     "elapsed": 9,
     "status": "aborted",
     "timestamp": 1721037155635,
     "user": {
      "displayName": "AVINASH PAWAR",
      "userId": "04075460652633853489"
     },
     "user_tz": -330
    },
    "id": "gnGA0XM6ZsiM"
   },
   "outputs": [],
   "source": [
    "data.info()"
   ]
  },
  {
   "cell_type": "code",
   "execution_count": null,
   "metadata": {
    "executionInfo": {
     "elapsed": 9,
     "status": "aborted",
     "timestamp": 1721037155635,
     "user": {
      "displayName": "AVINASH PAWAR",
      "userId": "04075460652633853489"
     },
     "user_tz": -330
    },
    "id": "a-Uduahabex-"
   },
   "outputs": [],
   "source": [
    "median_ap9am=data.air_pressure_9am.median()\n",
    "median_ap9am"
   ]
  },
  {
   "cell_type": "code",
   "execution_count": null,
   "metadata": {
    "executionInfo": {
     "elapsed": 9,
     "status": "aborted",
     "timestamp": 1721037155635,
     "user": {
      "displayName": "AVINASH PAWAR",
      "userId": "04075460652633853489"
     },
     "user_tz": -330
    },
    "id": "3-SU-yzjbl4-"
   },
   "outputs": [],
   "source": [
    "data.air_pressure_9am.fillna(median_ap9am,inplace=True)"
   ]
  },
  {
   "cell_type": "code",
   "execution_count": null,
   "metadata": {
    "executionInfo": {
     "elapsed": 9,
     "status": "aborted",
     "timestamp": 1721037155635,
     "user": {
      "displayName": "AVINASH PAWAR",
      "userId": "04075460652633853489"
     },
     "user_tz": -330
    },
    "id": "TOyEhH97byq3"
   },
   "outputs": [],
   "source": [
    "median_at9am=data.air_temp_9am.median()\n",
    "median_at9am"
   ]
  },
  {
   "cell_type": "code",
   "execution_count": null,
   "metadata": {
    "executionInfo": {
     "elapsed": 9,
     "status": "aborted",
     "timestamp": 1721037155635,
     "user": {
      "displayName": "AVINASH PAWAR",
      "userId": "04075460652633853489"
     },
     "user_tz": -330
    },
    "id": "6t01wpPgb3CA"
   },
   "outputs": [],
   "source": [
    "data.air_temp_9am.fillna(median_at9am,inplace=True)"
   ]
  },
  {
   "cell_type": "code",
   "execution_count": null,
   "metadata": {
    "executionInfo": {
     "elapsed": 9,
     "status": "aborted",
     "timestamp": 1721037155636,
     "user": {
      "displayName": "AVINASH PAWAR",
      "userId": "04075460652633853489"
     },
     "user_tz": -330
    },
    "id": "umTwGMoydALf"
   },
   "outputs": [],
   "source": [
    "data.info()"
   ]
  },
  {
   "cell_type": "code",
   "execution_count": null,
   "metadata": {
    "executionInfo": {
     "elapsed": 56594,
     "status": "aborted",
     "timestamp": 1721037155636,
     "user": {
      "displayName": "AVINASH PAWAR",
      "userId": "04075460652633853489"
     },
     "user_tz": -330
    },
    "id": "vnEIfSuycYqL"
   },
   "outputs": [],
   "source": [
    "data.fillna({'avg_wind_direction_9am':data.avg_wind_direction_9am.median(),\n",
    "             'avg_wind_speed_9am':data.avg_wind_speed_9am.median(),\n",
    "             'max_wind_direction_9am':data.max_wind_direction_9am.median(),\n",
    "             'max_wind_speed_9am':data.max_wind_speed_9am.median(),\n",
    "             'rain_accumulation_9am':data.rain_accumulation_9am.median(),\n",
    "             'rain_duration_9am':data.rain_duration_9am.median()},inplace=True)"
   ]
  },
  {
   "cell_type": "code",
   "execution_count": null,
   "metadata": {
    "executionInfo": {
     "elapsed": 56594,
     "status": "aborted",
     "timestamp": 1721037155637,
     "user": {
      "displayName": "AVINASH PAWAR",
      "userId": "04075460652633853489"
     },
     "user_tz": -330
    },
    "id": "Xh1Yhpq8d3t5"
   },
   "outputs": [],
   "source": [
    "data.info()"
   ]
  },
  {
   "cell_type": "markdown",
   "metadata": {
    "id": "gH4cEPVwfUM4"
   },
   "source": [
    "* Identify  redundent coloumns and drop it"
   ]
  },
  {
   "cell_type": "code",
   "execution_count": null,
   "metadata": {
    "executionInfo": {
     "elapsed": 56592,
     "status": "aborted",
     "timestamp": 1721037155637,
     "user": {
      "displayName": "AVINASH PAWAR",
      "userId": "04075460652633853489"
     },
     "user_tz": -330
    },
    "id": "Z6mpkqopeBYu"
   },
   "outputs": [],
   "source": [
    "data.drop(labels='number',axis=1,inplace=True)"
   ]
  },
  {
   "cell_type": "code",
   "execution_count": null,
   "metadata": {
    "executionInfo": {
     "elapsed": 56591,
     "status": "aborted",
     "timestamp": 1721037155637,
     "user": {
      "displayName": "AVINASH PAWAR",
      "userId": "04075460652633853489"
     },
     "user_tz": -330
    },
    "id": "v7eTF4zYfu9v"
   },
   "outputs": [],
   "source": [
    "data.info()"
   ]
  },
  {
   "cell_type": "code",
   "execution_count": null,
   "metadata": {
    "executionInfo": {
     "elapsed": 56590,
     "status": "aborted",
     "timestamp": 1721037155637,
     "user": {
      "displayName": "AVINASH PAWAR",
      "userId": "04075460652633853489"
     },
     "user_tz": -330
    },
    "id": "mOGIWNuaeFR3"
   },
   "outputs": [],
   "source": [
    "y=data[\"relative_humidity_3pm\"]"
   ]
  },
  {
   "cell_type": "markdown",
   "metadata": {
    "id": "9-azdYiUiuyW"
   },
   "source": [
    "* Data Preparation for Model\n",
    "* x and y"
   ]
  },
  {
   "cell_type": "code",
   "execution_count": null,
   "metadata": {
    "executionInfo": {
     "elapsed": 56589,
     "status": "aborted",
     "timestamp": 1721037155637,
     "user": {
      "displayName": "AVINASH PAWAR",
      "userId": "04075460652633853489"
     },
     "user_tz": -330
    },
    "id": "IC2kRIPNfhqk"
   },
   "outputs": [],
   "source": [
    "x=data.drop(labels='relative_humidity_3pm',axis=1)\n",
    "print(f\"X variables are : {x.columns}\")"
   ]
  },
  {
   "cell_type": "code",
   "execution_count": null,
   "metadata": {
    "executionInfo": {
     "elapsed": 56588,
     "status": "aborted",
     "timestamp": 1721037155637,
     "user": {
      "displayName": "AVINASH PAWAR",
      "userId": "04075460652633853489"
     },
     "user_tz": -330
    },
    "id": "_4FnOguIjteB"
   },
   "outputs": [],
   "source": [
    "x.head()"
   ]
  },
  {
   "cell_type": "code",
   "execution_count": null,
   "metadata": {
    "executionInfo": {
     "elapsed": 56586,
     "status": "aborted",
     "timestamp": 1721037155637,
     "user": {
      "displayName": "AVINASH PAWAR",
      "userId": "04075460652633853489"
     },
     "user_tz": -330
    },
    "id": "WEqpFiTzi8Ag"
   },
   "outputs": [],
   "source": [
    "y=data['relative_humidity_3pm']\n",
    "y.head()"
   ]
  },
  {
   "cell_type": "code",
   "execution_count": null,
   "metadata": {
    "executionInfo": {
     "elapsed": 56584,
     "status": "aborted",
     "timestamp": 1721037155637,
     "user": {
      "displayName": "AVINASH PAWAR",
      "userId": "04075460652633853489"
     },
     "user_tz": -330
    },
    "id": "xo2hTwd5jgad"
   },
   "outputs": [],
   "source": [
    "x_train,x_test,y_train,y_test=train_test_split(x,y,test_size=0.2,random_state=2)\n",
    "print(f\"x_train: {x_train.shape}\")\n",
    "print(f\"y_train: {y_train.shape}\")\n",
    "print(f\"x_test: {x_test.shape}\")\n",
    "print(f\"y_test: {y_test.shape}\")"
   ]
  },
  {
   "cell_type": "markdown",
   "metadata": {
    "id": "9EB3K3zGlMjH"
   },
   "source": [
    "* Model Developement and Evalutioin\n",
    "* Decision Tree"
   ]
  },
  {
   "cell_type": "code",
   "execution_count": null,
   "metadata": {
    "executionInfo": {
     "elapsed": 56581,
     "status": "aborted",
     "timestamp": 1721037155637,
     "user": {
      "displayName": "AVINASH PAWAR",
      "userId": "04075460652633853489"
     },
     "user_tz": -330
    },
    "id": "EfRWWTMslb1g"
   },
   "outputs": [],
   "source": [
    "dtr=DecisionTreeRegressor()\n",
    "dtr.fit(x_train,y_train)"
   ]
  },
  {
   "cell_type": "markdown",
   "metadata": {
    "id": "HSnAFvsCmlG2"
   },
   "source": [
    "* calculate accuracy"
   ]
  },
  {
   "cell_type": "code",
   "execution_count": null,
   "metadata": {
    "executionInfo": {
     "elapsed": 56580,
     "status": "aborted",
     "timestamp": 1721037155637,
     "user": {
      "displayName": "AVINASH PAWAR",
      "userId": "04075460652633853489"
     },
     "user_tz": -330
    },
    "id": "9iqv3BUFlbys"
   },
   "outputs": [],
   "source": [
    "print(f\"Training accuracy\",dtr.score(x_train,y_train))\n",
    "print(f\"Testing accuracy\",dtr.score(x_test,y_test))"
   ]
  },
  {
   "cell_type": "markdown",
   "metadata": {
    "id": "rNXS2NjEnJ59"
   },
   "source": [
    "* Enter Hyper Parameter in to model\n",
    "* max_depth = split tree into four times only"
   ]
  },
  {
   "cell_type": "code",
   "execution_count": null,
   "metadata": {
    "executionInfo": {
     "elapsed": 56578,
     "status": "aborted",
     "timestamp": 1721037155637,
     "user": {
      "displayName": "AVINASH PAWAR",
      "userId": "04075460652633853489"
     },
     "user_tz": -330
    },
    "id": "cJdaLZvXnJqR"
   },
   "outputs": [],
   "source": [
    "dtr=DecisionTreeRegressor(max_depth=4)\n",
    "dtr.fit(x_train,y_train)\n",
    "print(f\"Training accuracy\",dtr.score(x_train,y_train))\n",
    "print(f\"Testing accuracy\",dtr.score(x_test,y_test))"
   ]
  },
  {
   "cell_type": "markdown",
   "metadata": {
    "id": "J2YdMKrnn_ar"
   },
   "source": [
    "* Enter hyper parameter in to model\n",
    "* min_samples_split"
   ]
  },
  {
   "cell_type": "code",
   "execution_count": null,
   "metadata": {
    "executionInfo": {
     "elapsed": 56577,
     "status": "aborted",
     "timestamp": 1721037155637,
     "user": {
      "displayName": "AVINASH PAWAR",
      "userId": "04075460652633853489"
     },
     "user_tz": -330
    },
    "id": "z-81OH5bn9ak"
   },
   "outputs": [],
   "source": [
    "dtr=DecisionTreeRegressor(min_samples_split=10)\n",
    "dtr.fit(x_train,y_train)\n",
    "print(f\"Training accuracy\",dtr.score(x_train,y_train))\n",
    "print(f\"Testing accuracy\",dtr.score(x_test,y_test))"
   ]
  },
  {
   "cell_type": "markdown",
   "metadata": {
    "id": "V0YYiD5ToXJ0"
   },
   "source": [
    "* Identify these parameters are tough so that grid search teachnice is used in random forest\n",
    "* Entropy and Gini is automatically decided by model\n"
   ]
  },
  {
   "cell_type": "markdown",
   "metadata": {
    "id": "jLER3WQhpgr1"
   },
   "source": [
    "* How tree  looks like use pydotplus"
   ]
  },
  {
   "cell_type": "code",
   "execution_count": null,
   "metadata": {
    "executionInfo": {
     "elapsed": 56577,
     "status": "aborted",
     "timestamp": 1721037155638,
     "user": {
      "displayName": "AVINASH PAWAR",
      "userId": "04075460652633853489"
     },
     "user_tz": -330
    },
    "id": "BPfrFgNPk9ud"
   },
   "outputs": [],
   "source": [
    "!pip install pydotplus"
   ]
  },
  {
   "cell_type": "markdown",
   "metadata": {
    "id": "fZ1MrDA1qQK1"
   },
   "source": [
    "* Below code is same for all just change model name"
   ]
  },
  {
   "cell_type": "code",
   "execution_count": null,
   "metadata": {
    "executionInfo": {
     "elapsed": 56575,
     "status": "aborted",
     "timestamp": 1721037155638,
     "user": {
      "displayName": "AVINASH PAWAR",
      "userId": "04075460652633853489"
     },
     "user_tz": -330
    },
    "id": "kTxOkXWLpgMC"
   },
   "outputs": [],
   "source": [
    "from sklearn.tree import export_graphviz # create tree , visulize tree\n",
    "import pydotplus\n",
    "from IPython.display import Image # disaplay tree\n",
    "# Generate a pydot file\n",
    "dot_tree = export_graphviz(decision_tree=dtr,\n",
    "                           filled=True,\n",
    "                           rounded=True,\n",
    "                           special_characters=True,\n",
    "                           )\n",
    "\n",
    "# Generate graph using pydot file\n",
    "graph = pydotplus.graph_from_dot_data(dot_tree)\n",
    "# Display the graph\n",
    "Image(graph.create_png())"
   ]
  },
  {
   "cell_type": "code",
   "execution_count": null,
   "metadata": {
    "executionInfo": {
     "elapsed": 56575,
     "status": "aborted",
     "timestamp": 1721037155638,
     "user": {
      "displayName": "AVINASH PAWAR",
      "userId": "04075460652633853489"
     },
     "user_tz": -330
    },
    "id": "nkyIQsWPqMEA"
   },
   "outputs": [],
   "source": []
  }
 ],
 "metadata": {
  "colab": {
   "authorship_tag": "ABX9TyM/0H2Gq2p66OLtyhfwjE4t",
   "mount_file_id": "1VYMPBb7zxyjTbUa9YbDL1ACboBAMyCgL",
   "provenance": []
  },
  "kernelspec": {
   "display_name": "Python 3 (ipykernel)",
   "language": "python",
   "name": "python3"
  },
  "language_info": {
   "codemirror_mode": {
    "name": "ipython",
    "version": 3
   },
   "file_extension": ".py",
   "mimetype": "text/x-python",
   "name": "python",
   "nbconvert_exporter": "python",
   "pygments_lexer": "ipython3",
   "version": "3.10.9"
  }
 },
 "nbformat": 4,
 "nbformat_minor": 1
}
